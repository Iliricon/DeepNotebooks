{
 "cells": [
  {
   "cell_type": "code",
   "execution_count": 1,
   "metadata": {},
   "outputs": [],
   "source": [
    "import collections\n",
    "import numpy as np"
   ]
  },
  {
   "cell_type": "code",
   "execution_count": 2,
   "metadata": {},
   "outputs": [],
   "source": [
    "from spn.algorithms import Inference\n",
    "from spn.algorithms import Gradient"
   ]
  },
  {
   "cell_type": "code",
   "execution_count": 3,
   "metadata": {},
   "outputs": [],
   "source": [
    "from spn.structure.Base import Leaf, bfs\n",
    "from spn.structure.leaves.piecewise.PiecewiseLinear import PiecewiseLinear\n",
    "from spn.structure.leaves.piecewise.Gradients import piecewise_gradient"
   ]
  },
  {
   "cell_type": "code",
   "execution_count": 4,
   "metadata": {},
   "outputs": [],
   "source": [
    "piecewise_spn = (\n",
    "    0.5 * PiecewiseLinear([0, 1, 2], [0, 1, 0], [], scope=[0])\n",
    "    + 0.5 * PiecewiseLinear([-2, -1, 0], [0, 1, 0], [], scope=[0])\n",
    ") * (\n",
    "    0.5 * PiecewiseLinear([0, 1, 2], [0, 1, 0], [], scope=[1])\n",
    "    + 0.5 * PiecewiseLinear([-1, 0, 1], [0, 1, 0], [], scope=[1])\n",
    ")\n"
   ]
  },
  {
   "cell_type": "code",
   "execution_count": 5,
   "metadata": {},
   "outputs": [
    {
     "name": "stdout",
     "output_type": "stream",
     "text": [
      "[[-2.77258872 -1.38629436 -1.38629436 -0.69314718        -inf -0.69314718\n",
      "         -inf]]\n",
      "[[0.0625]]\n"
     ]
    }
   ],
   "source": [
    "lls_matrix = np.full((1,7),np.nan)\n",
    "ll = Inference.log_likelihood(piecewise_spn, np.array([[0.5, 1.5]]), lls_matrix=lls_matrix)\n",
    "print(lls_matrix)\n",
    "print(np.exp(ll))"
   ]
  },
  {
   "cell_type": "code",
   "execution_count": 6,
   "metadata": {},
   "outputs": [
    {
     "name": "stdout",
     "output_type": "stream",
     "text": [
      "[[0.0625 0.25   0.25   0.5    0.     0.5    0.    ]]\n"
     ]
    }
   ],
   "source": [
    "print(np.exp(lls_matrix))"
   ]
  },
  {
   "cell_type": "code",
   "execution_count": 7,
   "metadata": {},
   "outputs": [],
   "source": [
    "gradients = np.exp(Gradient.gradient_backward(piecewise_spn, lls_matrix))"
   ]
  },
  {
   "cell_type": "code",
   "execution_count": 8,
   "metadata": {},
   "outputs": [],
   "source": [
    "def print_spn_nodes(spn):\n",
    "    q = queue.Queue()\n",
    "    def build_queue(node):\n",
    "        if not isinstance(node, Leaf):\n",
    "            q.put(node.children)\n",
    "            for c in node.children:\n",
    "                build_queue(c)\n",
    "    q.put(spn)\n",
    "    build_queue(spn)\n",
    "    return q"
   ]
  },
  {
   "cell_type": "code",
   "execution_count": 9,
   "metadata": {},
   "outputs": [
    {
     "data": {
      "text/plain": [
       "array([[-0.125]])"
      ]
     },
     "execution_count": 9,
     "metadata": {},
     "output_type": "execute_result"
    }
   ],
   "source": [
    "delta = 0.0001\n",
    "(Inference.likelihood(piecewise_spn, np.array([[0.5 + delta, 1.5]])) - Inference.likelihood(piecewise_spn, np.array([[0.5, 1.5]])))/delta\n",
    "delta = 0.0001\n",
    "(Inference.likelihood(piecewise_spn, np.array([[0.5, 1.5 + delta]])) - Inference.likelihood(piecewise_spn, np.array([[0.5, 1.5]])))/delta"
   ]
  },
  {
   "cell_type": "code",
   "execution_count": 10,
   "metadata": {},
   "outputs": [],
   "source": [
    "def gradient_at_leaf(node, ll):\n",
    "    return piecewise_gradient(node, ll)"
   ]
  },
  {
   "cell_type": "code",
   "execution_count": 11,
   "metadata": {},
   "outputs": [],
   "source": [
    "x = np.array([[0.5, 1.5], [1.5, 0]])\n",
    "#q = collections.deque()\n",
    "#bfs(piecewise_spn, lambda x: q.append(x))\n",
    "#res = np.full((gradients.shape[0], max(piecewise_spn.scope) + 1), 0.0)\n",
    "#for n, g, ll in zip(q, gradients[0], np.exp(lls_matrix[0])):\n",
    "#    if isinstance(n, Leaf):\n",
    "#        print(n)\n",
    "#        print(g * gradient_at_leaf(n, x))\n",
    "#        res[:, n.scope] += g * gradient_at_leaf(n, x)\n",
    "#res"
   ]
  },
  {
   "cell_type": "code",
   "execution_count": 12,
   "metadata": {},
   "outputs": [],
   "source": [
    "from spn.algorithms.Gradient import feature_gradient"
   ]
  },
  {
   "cell_type": "code",
   "execution_count": 13,
   "metadata": {},
   "outputs": [
    {
     "data": {
      "text/plain": [
       "array([[ 0.125, -0.125],\n",
       "       [-0.25 ,  0.125]])"
      ]
     },
     "execution_count": 13,
     "metadata": {},
     "output_type": "execute_result"
    }
   ],
   "source": [
    "feature_gradient(piecewise_spn, x)"
   ]
  },
  {
   "cell_type": "code",
   "execution_count": null,
   "metadata": {},
   "outputs": [],
   "source": []
  },
  {
   "cell_type": "code",
   "execution_count": null,
   "metadata": {},
   "outputs": [],
   "source": []
  }
 ],
 "metadata": {
  "kernelspec": {
   "display_name": "Python 3",
   "language": "python",
   "name": "python3"
  },
  "language_info": {
   "codemirror_mode": {
    "name": "ipython",
    "version": 3
   },
   "file_extension": ".py",
   "mimetype": "text/x-python",
   "name": "python",
   "nbconvert_exporter": "python",
   "pygments_lexer": "ipython3",
   "version": "3.7.1"
  }
 },
 "nbformat": 4,
 "nbformat_minor": 2
}
